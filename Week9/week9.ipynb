{
 "cells": [
  {
   "attachments": {},
   "cell_type": "markdown",
   "metadata": {},
   "source": [
    "# Week 9"
   ]
  },
  {
   "cell_type": "code",
   "execution_count": 75,
   "metadata": {},
   "outputs": [],
   "source": [
    "import pandas as pd\n",
    "import numpy as np\n",
    "import matplotlib.pyplot as plt\n",
    "import seaborn as sns\n",
    "import numpy as np"
   ]
  },
  {
   "attachments": {},
   "cell_type": "markdown",
   "metadata": {},
   "source": [
    "## Cleaning The Data"
   ]
  },
  {
   "cell_type": "code",
   "execution_count": 76,
   "metadata": {},
   "outputs": [
    {
     "data": {
      "text/html": [
       "<div>\n",
       "<style scoped>\n",
       "    .dataframe tbody tr th:only-of-type {\n",
       "        vertical-align: middle;\n",
       "    }\n",
       "\n",
       "    .dataframe tbody tr th {\n",
       "        vertical-align: top;\n",
       "    }\n",
       "\n",
       "    .dataframe thead th {\n",
       "        text-align: right;\n",
       "    }\n",
       "</style>\n",
       "<table border=\"1\" class=\"dataframe\">\n",
       "  <thead>\n",
       "    <tr style=\"text-align: right;\">\n",
       "      <th></th>\n",
       "      <th>Dexa_Freq_During_Rx</th>\n",
       "      <th>Count_Of_Risks</th>\n",
       "    </tr>\n",
       "  </thead>\n",
       "  <tbody>\n",
       "    <tr>\n",
       "      <th>count</th>\n",
       "      <td>3424.000000</td>\n",
       "      <td>3424.000000</td>\n",
       "    </tr>\n",
       "    <tr>\n",
       "      <th>mean</th>\n",
       "      <td>3.016063</td>\n",
       "      <td>1.239486</td>\n",
       "    </tr>\n",
       "    <tr>\n",
       "      <th>std</th>\n",
       "      <td>8.136545</td>\n",
       "      <td>1.094914</td>\n",
       "    </tr>\n",
       "    <tr>\n",
       "      <th>min</th>\n",
       "      <td>0.000000</td>\n",
       "      <td>0.000000</td>\n",
       "    </tr>\n",
       "    <tr>\n",
       "      <th>25%</th>\n",
       "      <td>0.000000</td>\n",
       "      <td>0.000000</td>\n",
       "    </tr>\n",
       "    <tr>\n",
       "      <th>50%</th>\n",
       "      <td>0.000000</td>\n",
       "      <td>1.000000</td>\n",
       "    </tr>\n",
       "    <tr>\n",
       "      <th>75%</th>\n",
       "      <td>3.000000</td>\n",
       "      <td>2.000000</td>\n",
       "    </tr>\n",
       "    <tr>\n",
       "      <th>max</th>\n",
       "      <td>146.000000</td>\n",
       "      <td>7.000000</td>\n",
       "    </tr>\n",
       "  </tbody>\n",
       "</table>\n",
       "</div>"
      ],
      "text/plain": [
       "       Dexa_Freq_During_Rx  Count_Of_Risks\n",
       "count          3424.000000     3424.000000\n",
       "mean              3.016063        1.239486\n",
       "std               8.136545        1.094914\n",
       "min               0.000000        0.000000\n",
       "25%               0.000000        0.000000\n",
       "50%               0.000000        1.000000\n",
       "75%               3.000000        2.000000\n",
       "max             146.000000        7.000000"
      ]
     },
     "execution_count": 76,
     "metadata": {},
     "output_type": "execute_result"
    }
   ],
   "source": [
    "df = pd.read_excel(\"Healthcare_dataset.xlsx\", sheet_name=1)\n",
    "\n",
    "df.describe()\n",
    "\n",
    "# 2 Numeric Values"
   ]
  },
  {
   "attachments": {},
   "cell_type": "markdown",
   "metadata": {},
   "source": [
    "Since we know our data has unknown values let's turn them into NaN values."
   ]
  },
  {
   "cell_type": "code",
   "execution_count": 77,
   "metadata": {},
   "outputs": [],
   "source": [
    "def convert_none(x):\n",
    "    \"\"\"\n",
    "    Function for converting the unknown values to NaN\n",
    "    \"\"\"\n",
    "    if x in [\"Unknown\", \"Other/Unknown\"]:\n",
    "        return None\n",
    "    else:\n",
    "        return x\n",
    "\n",
    "df = df.applymap(convert_none) # Applying the function to whole dataframe"
   ]
  },
  {
   "attachments": {},
   "cell_type": "markdown",
   "metadata": {},
   "source": [
    "### Percentages of the NaN Values"
   ]
  },
  {
   "cell_type": "code",
   "execution_count": 78,
   "metadata": {},
   "outputs": [
    {
     "data": {
      "text/plain": [
       "Race                        2.832944\n",
       "Ethnicity                   2.657710\n",
       "Region                      1.752336\n",
       "Ntm_Speciality              9.053738\n",
       "Risk_Segment_During_Rx     43.720794\n",
       "Tscore_Bucket_During_Rx    43.720794\n",
       "Change_T_Score             43.720794\n",
       "Change_Risk_Segment        65.099299\n",
       "dtype: float64"
      ]
     },
     "execution_count": 78,
     "metadata": {},
     "output_type": "execute_result"
    }
   ],
   "source": [
    "none_columns = df.isna().sum()\n",
    "\n",
    "percent_none = none_columns[none_columns > 0] / len(df) * 100\n",
    "\n",
    "percent_none"
   ]
  },
  {
   "attachments": {},
   "cell_type": "markdown",
   "metadata": {},
   "source": [
    "### Binary Values"
   ]
  },
  {
   "cell_type": "code",
   "execution_count": 79,
   "metadata": {},
   "outputs": [
    {
     "name": "stdout",
     "output_type": "stream",
     "text": [
      "Persistency_Flag\n",
      "Gender\n",
      "Ethnicity\n",
      "Ntm_Specialist_Flag\n",
      "Gluco_Record_Prior_Ntm\n",
      "Gluco_Record_During_Rx\n",
      "Dexa_During_Rx\n",
      "Frag_Frac_Prior_Ntm\n",
      "Frag_Frac_During_Rx\n",
      "Risk_Segment_Prior_Ntm\n",
      "Tscore_Bucket_Prior_Ntm\n",
      "Risk_Segment_During_Rx\n",
      "Tscore_Bucket_During_Rx\n",
      "Adherent_Flag\n",
      "Idn_Indicator\n",
      "Injectable_Experience_During_Rx\n",
      "Comorb_Encounter_For_Screening_For_Malignant_Neoplasms\n",
      "Comorb_Encounter_For_Immunization\n",
      "Comorb_Encntr_For_General_Exam_W_O_Complaint,_Susp_Or_Reprtd_Dx\n",
      "Comorb_Vitamin_D_Deficiency\n",
      "Comorb_Other_Joint_Disorder_Not_Elsewhere_Classified\n",
      "Comorb_Encntr_For_Oth_Sp_Exam_W_O_Complaint_Suspected_Or_Reprtd_Dx\n",
      "Comorb_Long_Term_Current_Drug_Therapy\n",
      "Comorb_Dorsalgia\n",
      "Comorb_Personal_History_Of_Other_Diseases_And_Conditions\n",
      "Comorb_Other_Disorders_Of_Bone_Density_And_Structure\n",
      "Comorb_Disorders_of_lipoprotein_metabolism_and_other_lipidemias\n",
      "Comorb_Osteoporosis_without_current_pathological_fracture\n",
      "Comorb_Personal_history_of_malignant_neoplasm\n",
      "Comorb_Gastro_esophageal_reflux_disease\n",
      "Concom_Cholesterol_And_Triglyceride_Regulating_Preparations\n",
      "Concom_Narcotics\n",
      "Concom_Systemic_Corticosteroids_Plain\n",
      "Concom_Anti_Depressants_And_Mood_Stabilisers\n",
      "Concom_Fluoroquinolones\n",
      "Concom_Cephalosporins\n",
      "Concom_Macrolides_And_Similar_Types\n",
      "Concom_Broad_Spectrum_Penicillins\n",
      "Concom_Anaesthetics_General\n",
      "Concom_Viral_Vaccines\n",
      "Risk_Type_1_Insulin_Dependent_Diabetes\n",
      "Risk_Osteogenesis_Imperfecta\n",
      "Risk_Rheumatoid_Arthritis\n",
      "Risk_Untreated_Chronic_Hyperthyroidism\n",
      "Risk_Untreated_Chronic_Hypogonadism\n",
      "Risk_Untreated_Early_Menopause\n",
      "Risk_Patient_Parent_Fractured_Their_Hip\n",
      "Risk_Smoking_Tobacco\n",
      "Risk_Chronic_Malnutrition_Or_Malabsorption\n",
      "Risk_Chronic_Liver_Disease\n",
      "Risk_Family_History_Of_Osteoporosis\n",
      "Risk_Low_Calcium_Intake\n",
      "Risk_Vitamin_D_Insufficiency\n",
      "Risk_Poor_Health_Frailty\n",
      "Risk_Excessive_Thinness\n",
      "Risk_Hysterectomy_Oophorectomy\n",
      "Risk_Estrogen_Deficiency\n",
      "Risk_Immobilization\n",
      "Risk_Recurring_Falls\n"
     ]
    }
   ],
   "source": [
    "# Binary Values\n",
    "\n",
    "for name, column in df.items():\n",
    "    if column.nunique() == 2:\n",
    "        print(name)"
   ]
  },
  {
   "cell_type": "code",
   "execution_count": 80,
   "metadata": {},
   "outputs": [
    {
     "data": {
      "text/plain": [
       "['Dexa_Freq_During_Rx', 'Count_Of_Risks']"
      ]
     },
     "execution_count": 80,
     "metadata": {},
     "output_type": "execute_result"
    }
   ],
   "source": [
    "# Numeric Values\n",
    "\n",
    "df.select_dtypes(\"int64\").columns.to_list()"
   ]
  },
  {
   "cell_type": "code",
   "execution_count": 81,
   "metadata": {},
   "outputs": [
    {
     "data": {
      "text/html": [
       "<div>\n",
       "<style scoped>\n",
       "    .dataframe tbody tr th:only-of-type {\n",
       "        vertical-align: middle;\n",
       "    }\n",
       "\n",
       "    .dataframe tbody tr th {\n",
       "        vertical-align: top;\n",
       "    }\n",
       "\n",
       "    .dataframe thead th {\n",
       "        text-align: right;\n",
       "    }\n",
       "</style>\n",
       "<table border=\"1\" class=\"dataframe\">\n",
       "  <thead>\n",
       "    <tr style=\"text-align: right;\">\n",
       "      <th></th>\n",
       "      <th>Dexa_Freq_During_Rx</th>\n",
       "      <th>Count_Of_Risks</th>\n",
       "    </tr>\n",
       "  </thead>\n",
       "  <tbody>\n",
       "    <tr>\n",
       "      <th>count</th>\n",
       "      <td>3424.000000</td>\n",
       "      <td>3424.000000</td>\n",
       "    </tr>\n",
       "    <tr>\n",
       "      <th>mean</th>\n",
       "      <td>3.016063</td>\n",
       "      <td>1.239486</td>\n",
       "    </tr>\n",
       "    <tr>\n",
       "      <th>std</th>\n",
       "      <td>8.136545</td>\n",
       "      <td>1.094914</td>\n",
       "    </tr>\n",
       "    <tr>\n",
       "      <th>min</th>\n",
       "      <td>0.000000</td>\n",
       "      <td>0.000000</td>\n",
       "    </tr>\n",
       "    <tr>\n",
       "      <th>25%</th>\n",
       "      <td>0.000000</td>\n",
       "      <td>0.000000</td>\n",
       "    </tr>\n",
       "    <tr>\n",
       "      <th>50%</th>\n",
       "      <td>0.000000</td>\n",
       "      <td>1.000000</td>\n",
       "    </tr>\n",
       "    <tr>\n",
       "      <th>75%</th>\n",
       "      <td>3.000000</td>\n",
       "      <td>2.000000</td>\n",
       "    </tr>\n",
       "    <tr>\n",
       "      <th>max</th>\n",
       "      <td>146.000000</td>\n",
       "      <td>7.000000</td>\n",
       "    </tr>\n",
       "  </tbody>\n",
       "</table>\n",
       "</div>"
      ],
      "text/plain": [
       "       Dexa_Freq_During_Rx  Count_Of_Risks\n",
       "count          3424.000000     3424.000000\n",
       "mean              3.016063        1.239486\n",
       "std               8.136545        1.094914\n",
       "min               0.000000        0.000000\n",
       "25%               0.000000        0.000000\n",
       "50%               0.000000        1.000000\n",
       "75%               3.000000        2.000000\n",
       "max             146.000000        7.000000"
      ]
     },
     "execution_count": 81,
     "metadata": {},
     "output_type": "execute_result"
    }
   ],
   "source": [
    "# Describe Numeric Values\n",
    "df.describe()"
   ]
  },
  {
   "cell_type": "code",
   "execution_count": 82,
   "metadata": {},
   "outputs": [
    {
     "data": {
      "image/png": "[encoded data removed]",
      "text/plain": [
       "<Figure size 640x480 with 1 Axes>"
      ]
     },
     "metadata": {},
     "output_type": "display_data"
    }
   ],
   "source": [
    "df[\"Dexa_Freq_During_Rx\"].plot.hist(bins=25, color=\"Red\")\n",
    "plt.grid()\n",
    "plt.show()"
   ]
  },
  {
   "attachments": {},
   "cell_type": "markdown",
   "metadata": {},
   "source": [
    "In order to Make data closer to normal distrubition we will use log transformation (I added a constant to get \n",
    "rid of the infinite values)"
   ]
  },
  {
   "cell_type": "code",
   "execution_count": 83,
   "metadata": {},
   "outputs": [],
   "source": [
    "df[\"Dexa_Freq_During_Rx\"] = np.log(df[\"Dexa_Freq_During_Rx\"].apply(lambda x: x+1).values)"
   ]
  },
  {
   "cell_type": "code",
   "execution_count": 84,
   "metadata": {},
   "outputs": [
    {
     "data": {
      "text/plain": [
       "0       0.000000\n",
       "1       0.000000\n",
       "2       0.000000\n",
       "3       0.000000\n",
       "4       0.000000\n",
       "          ...   \n",
       "3419    0.000000\n",
       "3420    0.000000\n",
       "3421    2.079442\n",
       "3422    0.000000\n",
       "3423    0.000000\n",
       "Name: Dexa_Freq_During_Rx, Length: 3424, dtype: float64"
      ]
     },
     "execution_count": 84,
     "metadata": {},
     "output_type": "execute_result"
    }
   ],
   "source": [
    "df[\"Dexa_Freq_During_Rx\"]"
   ]
  },
  {
   "cell_type": "code",
   "execution_count": 85,
   "metadata": {},
   "outputs": [
    {
     "data": {
      "image/png": "[encoded data removed]",
      "text/plain": [
       "<Figure size 640x480 with 1 Axes>"
      ]
     },
     "metadata": {},
     "output_type": "display_data"
    }
   ],
   "source": [
    "# More like a normal distribution.\n",
    "df[\"Dexa_Freq_During_Rx\"].plot.hist(bins=25, color=\"Red\")\n",
    "plt.grid()\n",
    "plt.show()"
   ]
  },
  {
   "cell_type": "code",
   "execution_count": 86,
   "metadata": {},
   "outputs": [
    {
     "data": {
      "image/png": "[encoded data removed]",
      "text/plain": [
       "<Figure size 640x480 with 1 Axes>"
      ]
     },
     "metadata": {},
     "output_type": "display_data"
    }
   ],
   "source": [
    "df[\"Count_Of_Risks\"].plot.hist(bins=25)\n",
    "plt.show()"
   ]
  },
  {
   "cell_type": "code",
   "execution_count": 87,
   "metadata": {},
   "outputs": [
    {
     "data": {
      "image/png": "[encoded data removed]",
      "text/plain": [
       "<Figure size 640x480 with 1 Axes>"
      ]
     },
     "metadata": {},
     "output_type": "display_data"
    }
   ],
   "source": [
    "plt.scatter(df[\"Persistency_Flag\"], df[\"Dexa_Freq_During_Rx\"])\n",
    "plt.show()"
   ]
  },
  {
   "cell_type": "code",
   "execution_count": 88,
   "metadata": {},
   "outputs": [
    {
     "data": {
      "image/png": "[encoded data removed]",
      "text/plain": [
       "<Figure size 640x480 with 1 Axes>"
      ]
     },
     "metadata": {},
     "output_type": "display_data"
    }
   ],
   "source": [
    "plt.scatter(df[\"Persistency_Flag\"], df[\"Count_Of_Risks\"])\n",
    "plt.show()"
   ]
  },
  {
   "cell_type": "code",
   "execution_count": 89,
   "metadata": {},
   "outputs": [
    {
     "data": {
      "image/png": "[encoded data removed]",
      "text/plain": [
       "<Figure size 640x480 with 1 Axes>"
      ]
     },
     "metadata": {},
     "output_type": "display_data"
    }
   ],
   "source": [
    "sns.boxplot(data=df, x=\"Persistency_Flag\", y=\"Count_Of_Risks\")\n",
    "plt.show()"
   ]
  },
  {
   "cell_type": "code",
   "execution_count": 90,
   "metadata": {},
   "outputs": [
    {
     "data": {
      "image/png": "[encoded data removed]",
      "text/plain": [
       "<Figure size 640x480 with 1 Axes>"
      ]
     },
     "metadata": {},
     "output_type": "display_data"
    }
   ],
   "source": [
    "sns.boxplot(data=df, x=\"Persistency_Flag\", y=\"Dexa_Freq_During_Rx\")\n",
    "plt.show()"
   ]
  },
  {
   "cell_type": "code",
   "execution_count": 91,
   "metadata": {},
   "outputs": [],
   "source": [
    "def find_outliers_IQR(df):\n",
    "   \"\"\" Function for finding the outliers \"\"\"\n",
    "   q1=df.quantile(0.25)\n",
    "\n",
    "   q3=df.quantile(0.75)\n",
    "\n",
    "   IQR=q3-q1\n",
    "\n",
    "   outliers = df[((df<(q1-2*IQR)) | (df>(q3+2*IQR)))]\n",
    "\n",
    "   return outliers"
   ]
  },
  {
   "cell_type": "code",
   "execution_count": 94,
   "metadata": {},
   "outputs": [
    {
     "data": {
      "text/plain": [
       "817     7\n",
       "1059    7\n",
       "Name: Count_Of_Risks, dtype: int64"
      ]
     },
     "execution_count": 94,
     "metadata": {},
     "output_type": "execute_result"
    }
   ],
   "source": [
    "find_outliers_IQR(df[\"Count_Of_Risks\"])"
   ]
  },
  {
   "cell_type": "code",
   "execution_count": 95,
   "metadata": {},
   "outputs": [
    {
     "data": {
      "text/plain": [
       "541     4.406719\n",
       "1901    4.709530\n",
       "1993    4.488636\n",
       "2013    4.204693\n",
       "2028    4.488636\n",
       "2033    4.779123\n",
       "2132    4.248495\n",
       "2176    4.234107\n",
       "2215    4.990433\n",
       "2603    4.691348\n",
       "2751    4.290459\n",
       "Name: Dexa_Freq_During_Rx, dtype: float64"
      ]
     },
     "execution_count": 95,
     "metadata": {},
     "output_type": "execute_result"
    }
   ],
   "source": [
    "find_outliers_IQR(df[\"Dexa_Freq_During_Rx\"])"
   ]
  },
  {
   "attachments": {},
   "cell_type": "markdown",
   "metadata": {},
   "source": [
    "## 1 - Getting rid of NaN Values and The outliers"
   ]
  },
  {
   "cell_type": "code",
   "execution_count": 96,
   "metadata": {},
   "outputs": [
    {
     "data": {
      "text/plain": [
       "Race                        2.832944\n",
       "Ethnicity                   2.657710\n",
       "Region                      1.752336\n",
       "Ntm_Speciality              9.053738\n",
       "Risk_Segment_During_Rx     43.720794\n",
       "Tscore_Bucket_During_Rx    43.720794\n",
       "Change_T_Score             43.720794\n",
       "Change_Risk_Segment        65.099299\n",
       "dtype: float64"
      ]
     },
     "execution_count": 96,
     "metadata": {},
     "output_type": "execute_result"
    }
   ],
   "source": [
    "df = df.copy()\n",
    "\n",
    "none_columns = df.isna().sum()\n",
    "\n",
    "percent_none = none_columns[none_columns > 0] / len(df) * 100\n",
    "\n",
    "percent_none"
   ]
  },
  {
   "attachments": {},
   "cell_type": "markdown",
   "metadata": {},
   "source": [
    "* Since the NaN percentage of the 4 columns are above 40 percent we will get rid of those columns in order to not toaffect the data."
   ]
  },
  {
   "cell_type": "code",
   "execution_count": 97,
   "metadata": {},
   "outputs": [],
   "source": [
    "df = df.drop(columns=[\"Risk_Segment_During_Rx\",\n",
    "                      \"Tscore_Bucket_During_Rx\",\n",
    "                      \"Change_T_Score\",\n",
    "                      \"Change_Risk_Segment\",])"
   ]
  },
  {
   "cell_type": "code",
   "execution_count": 98,
   "metadata": {},
   "outputs": [
    {
     "data": {
      "text/plain": [
       "65"
      ]
     },
     "execution_count": 98,
     "metadata": {},
     "output_type": "execute_result"
    }
   ],
   "source": [
    "len(df.columns)"
   ]
  },
  {
   "attachments": {},
   "cell_type": "markdown",
   "metadata": {},
   "source": [
    "* Others are categorical data so I will impute them with the most freaquent value."
   ]
  },
  {
   "cell_type": "code",
   "execution_count": 99,
   "metadata": {},
   "outputs": [],
   "source": [
    "def fillnamode(df):\n",
    "    \"\"\"Fuction for filling the NaN with the most freaquent value\"\"\"\n",
    "    most_frqnt_vlue = df.mode()[0]\n",
    "    df = df.fillna(most_frqnt_vlue)\n",
    "    return df"
   ]
  },
  {
   "cell_type": "code",
   "execution_count": 100,
   "metadata": {},
   "outputs": [],
   "source": [
    "df[\"Race\"] = fillnamode(df[\"Race\"])\n",
    "df[\"Ethnicity\"] = fillnamode(df[\"Ethnicity\"])\n",
    "df[\"Region\"] = fillnamode(df[\"Region\"])\n",
    "df[\"Ntm_Speciality\"] = fillnamode(df[\"Ntm_Speciality\"])"
   ]
  },
  {
   "attachments": {},
   "cell_type": "markdown",
   "metadata": {},
   "source": [
    "### Finding the outliers And Dropping Them"
   ]
  },
  {
   "cell_type": "code",
   "execution_count": 101,
   "metadata": {},
   "outputs": [],
   "source": [
    "outliers = find_outliers_IQR(df[\"Dexa_Freq_During_Rx\"])"
   ]
  },
  {
   "cell_type": "code",
   "execution_count": 102,
   "metadata": {},
   "outputs": [],
   "source": [
    "df.drop(index=outliers.index, inplace=True)"
   ]
  },
  {
   "cell_type": "code",
   "execution_count": 103,
   "metadata": {},
   "outputs": [
    {
     "data": {
      "text/plain": [
       "3413"
      ]
     },
     "execution_count": 103,
     "metadata": {},
     "output_type": "execute_result"
    }
   ],
   "source": [
    "len(df)"
   ]
  },
  {
   "cell_type": "code",
   "execution_count": 104,
   "metadata": {},
   "outputs": [
    {
     "data": {
      "text/plain": [
       "1    1237\n",
       "0     965\n",
       "2     780\n",
       "3     317\n",
       "4      91\n",
       "5      15\n",
       "6       6\n",
       "7       2\n",
       "Name: Count_Of_Risks, dtype: int64"
      ]
     },
     "execution_count": 104,
     "metadata": {},
     "output_type": "execute_result"
    }
   ],
   "source": [
    "df[\"Count_Of_Risks\"].value_counts()"
   ]
  },
  {
   "attachments": {},
   "cell_type": "markdown",
   "metadata": {},
   "source": [
    "df"
   ]
  },
  {
   "attachments": {},
   "cell_type": "markdown",
   "metadata": {},
   "source": [
    "### 2nd Approach Using WOE / IV For Logistic Regression (Weight Of Evidence, Information Value)"
   ]
  },
  {
   "cell_type": "code",
   "execution_count": 108,
   "metadata": {},
   "outputs": [
    {
     "name": "stderr",
     "output_type": "stream",
     "text": [
      "C:\\Users\\ayber\\AppData\\Local\\Temp\\ipykernel_14640\\1818610269.py:3: FutureWarning: The default dtype for empty Series will be 'object' instead of 'float64' in a future version. Specify a dtype explicitly to silence this warning.\n",
      "  iv = pd.Series()\n"
     ]
    },
    {
     "data": {
      "text/html": [
       "<div>\n",
       "<style scoped>\n",
       "    .dataframe tbody tr th:only-of-type {\n",
       "        vertical-align: middle;\n",
       "    }\n",
       "\n",
       "    .dataframe tbody tr th {\n",
       "        vertical-align: top;\n",
       "    }\n",
       "\n",
       "    .dataframe thead th {\n",
       "        text-align: right;\n",
       "    }\n",
       "</style>\n",
       "<table border=\"1\" class=\"dataframe\">\n",
       "  <thead>\n",
       "    <tr style=\"text-align: right;\">\n",
       "      <th></th>\n",
       "      <th>Non-Persistent</th>\n",
       "      <th>Persistent</th>\n",
       "      <th>woe</th>\n",
       "      <th>iv</th>\n",
       "    </tr>\n",
       "  </thead>\n",
       "  <tbody>\n",
       "    <tr>\n",
       "      <th>0</th>\n",
       "      <td>656</td>\n",
       "      <td>309</td>\n",
       "      <td>-0.2434</td>\n",
       "      <td>0.01618</td>\n",
       "    </tr>\n",
       "    <tr>\n",
       "      <th>1</th>\n",
       "      <td>770</td>\n",
       "      <td>467</td>\n",
       "      <td>0.009358</td>\n",
       "      <td>0.000032</td>\n",
       "    </tr>\n",
       "    <tr>\n",
       "      <th>2</th>\n",
       "      <td>467</td>\n",
       "      <td>313</td>\n",
       "      <td>0.109293</td>\n",
       "      <td>0.002765</td>\n",
       "    </tr>\n",
       "    <tr>\n",
       "      <th>3</th>\n",
       "      <td>179</td>\n",
       "      <td>138</td>\n",
       "      <td>0.249287</td>\n",
       "      <td>0.005925</td>\n",
       "    </tr>\n",
       "    <tr>\n",
       "      <th>4</th>\n",
       "      <td>50</td>\n",
       "      <td>41</td>\n",
       "      <td>0.310969</td>\n",
       "      <td>0.00266</td>\n",
       "    </tr>\n",
       "    <tr>\n",
       "      <th>5</th>\n",
       "      <td>6</td>\n",
       "      <td>9</td>\n",
       "      <td>0.914885</td>\n",
       "      <td>0.003853</td>\n",
       "    </tr>\n",
       "    <tr>\n",
       "      <th>6</th>\n",
       "      <td>3</td>\n",
       "      <td>3</td>\n",
       "      <td>0.509419</td>\n",
       "      <td>0.000476</td>\n",
       "    </tr>\n",
       "    <tr>\n",
       "      <th>7</th>\n",
       "      <td>1</td>\n",
       "      <td>1</td>\n",
       "      <td>0.509419</td>\n",
       "      <td>0.000159</td>\n",
       "    </tr>\n",
       "    <tr>\n",
       "      <th>Total</th>\n",
       "      <td>2132</td>\n",
       "      <td>1281</td>\n",
       "      <td>2.369231</td>\n",
       "      <td>0.03205</td>\n",
       "    </tr>\n",
       "  </tbody>\n",
       "</table>\n",
       "</div>"
      ],
      "text/plain": [
       "       Non-Persistent  Persistent       woe        iv\n",
       "0                 656         309   -0.2434   0.01618\n",
       "1                 770         467  0.009358  0.000032\n",
       "2                 467         313  0.109293  0.002765\n",
       "3                 179         138  0.249287  0.005925\n",
       "4                  50          41  0.310969   0.00266\n",
       "5                   6           9  0.914885  0.003853\n",
       "6                   3           3  0.509419  0.000476\n",
       "7                   1           1  0.509419  0.000159\n",
       "Total            2132        1281  2.369231   0.03205"
      ]
     },
     "execution_count": 108,
     "metadata": {},
     "output_type": "execute_result"
    }
   ],
   "source": [
    "import numpy as np\n",
    "\n",
    "iv = pd.Series()\n",
    "\n",
    "\n",
    "for i in range(2, len(df.columns)):\n",
    "    \n",
    "\n",
    "    df_woe = df.pivot_table(index=df.columns[i], \n",
    "                            columns=[\"Persistency_Flag\"],\n",
    "                            values=\"Ptid\",\n",
    "                            aggfunc=\"count\")\n",
    "\n",
    "    woe_iv = pd.DataFrame(columns=[\"woe\", \"iv\"])\n",
    "    for index, value in df_woe.iterrows():\n",
    "        prcnt_bad = value[\"Non-Persistent\"] / df_woe[\"Non-Persistent\"].sum()\n",
    "        prcnt_good = value[\"Persistent\"] / df_woe[\"Persistent\"].sum()\n",
    "        woe_iv.loc[index, \"woe\"] =  np.log(prcnt_good / prcnt_bad) \n",
    "        woe_iv.loc[index, \"iv\"] =  woe_iv.loc[index, \"woe\"] * (prcnt_good - prcnt_bad)\n",
    "        df[df.columns[i]].replace(index, woe_iv.loc[index, \"woe\"], inplace=True)\n",
    "    df_woe_iv = pd.concat([df_woe, woe_iv], axis=1)\n",
    "\n",
    "    df_woe_iv.loc[\"Total\"] = df_woe_iv.sum()\n",
    "    iv[df.columns[i]] = df_woe_iv.loc[\"Total\", \"iv\"]\n",
    "\n",
    "    \n",
    "\n",
    "df_woe_iv"
   ]
  },
  {
   "attachments": {},
   "cell_type": "markdown",
   "metadata": {},
   "source": [
    "If Information Value is less then 0.02 The Feature is Useless."
   ]
  },
  {
   "cell_type": "code",
   "execution_count": 68,
   "metadata": {},
   "outputs": [
    {
     "data": {
      "text/plain": [
       "Dexa_Freq_During_Rx                                       0.98\n",
       "Dexa_During_Rx                                            0.75\n",
       "Comorb_Long_Term_Current_Drug_Therapy                     0.52\n",
       "Comorb_Encounter_For_Immunization                         0.37\n",
       "Comorb_Encounter_For_Screening_For_Malignant_Neoplasms    0.37\n",
       "                                                          ... \n",
       "Risk_Type_1_Insulin_Dependent_Diabetes                    0.00\n",
       "Gluco_Record_Prior_Ntm                                    0.00\n",
       "Frag_Frac_Prior_Ntm                                       0.00\n",
       "Risk_Segment_Prior_Ntm                                    0.00\n",
       "Gender                                                    0.00\n",
       "Length: 63, dtype: float64"
      ]
     },
     "execution_count": 68,
     "metadata": {},
     "output_type": "execute_result"
    }
   ],
   "source": [
    "iv.apply(round, ndigits=2).sort_values(ascending=False)"
   ]
  },
  {
   "attachments": {},
   "cell_type": "markdown",
   "metadata": {},
   "source": [
    "### Columns Which has a information value more than 0.02"
   ]
  },
  {
   "cell_type": "code",
   "execution_count": 69,
   "metadata": {},
   "outputs": [
    {
     "data": {
      "text/plain": [
       "Region                                                                0.025565\n",
       "Ntm_Speciality                                                        0.199183\n",
       "Ntm_Specialist_Flag                                                   0.082064\n",
       "Ntm_Speciality_Bucket                                                 0.136566\n",
       "Gluco_Record_During_Rx                                                0.197153\n",
       "Dexa_Freq_During_Rx                                                   0.984861\n",
       "Dexa_During_Rx                                                        0.754214\n",
       "Frag_Frac_During_Rx                                                   0.039780\n",
       "Adherent_Flag                                                         0.063742\n",
       "Idn_Indicator                                                         0.085094\n",
       "Injectable_Experience_During_Rx                                       0.056867\n",
       "Comorb_Encounter_For_Screening_For_Malignant_Neoplasms                0.372186\n",
       "Comorb_Encounter_For_Immunization                                     0.370968\n",
       "Comorb_Encntr_For_General_Exam_W_O_Complaint,_Susp_Or_Reprtd_Dx       0.312116\n",
       "Comorb_Vitamin_D_Deficiency                                           0.116784\n",
       "Comorb_Other_Joint_Disorder_Not_Elsewhere_Classified                  0.202702\n",
       "Comorb_Encntr_For_Oth_Sp_Exam_W_O_Complaint_Suspected_Or_Reprtd_Dx    0.135976\n",
       "Comorb_Long_Term_Current_Drug_Therapy                                 0.518118\n",
       "Comorb_Dorsalgia                                                      0.131785\n",
       "Comorb_Personal_History_Of_Other_Diseases_And_Conditions              0.168811\n",
       "Comorb_Other_Disorders_Of_Bone_Density_And_Structure                  0.240664\n",
       "Comorb_Disorders_of_lipoprotein_metabolism_and_other_lipidemias       0.107378\n",
       "Comorb_Osteoporosis_without_current_pathological_fracture             0.082456\n",
       "Comorb_Personal_history_of_malignant_neoplasm                         0.112425\n",
       "Comorb_Gastro_esophageal_reflux_disease                               0.184019\n",
       "Concom_Cholesterol_And_Triglyceride_Regulating_Preparations           0.069391\n",
       "Concom_Narcotics                                                      0.161924\n",
       "Concom_Systemic_Corticosteroids_Plain                                 0.278167\n",
       "Concom_Anti_Depressants_And_Mood_Stabilisers                          0.053999\n",
       "Concom_Fluoroquinolones                                               0.149787\n",
       "Concom_Cephalosporins                                                 0.219244\n",
       "Concom_Macrolides_And_Similar_Types                                   0.175489\n",
       "Concom_Broad_Spectrum_Penicillins                                     0.142420\n",
       "Concom_Anaesthetics_General                                           0.206458\n",
       "Concom_Viral_Vaccines                                                 0.209660\n",
       "Risk_Smoking_Tobacco                                                  0.060599\n",
       "Risk_Vitamin_D_Insufficiency                                          0.025571\n",
       "Count_Of_Risks                                                        0.031886\n",
       "dtype: float64"
      ]
     },
     "execution_count": 69,
     "metadata": {},
     "output_type": "execute_result"
    }
   ],
   "source": [
    "\n",
    "\n",
    "iv[iv>0.02] "
   ]
  },
  {
   "attachments": {},
   "cell_type": "markdown",
   "metadata": {},
   "source": [
    "Dropping the columns which has  less information value than 0.02"
   ]
  },
  {
   "cell_type": "code",
   "execution_count": 70,
   "metadata": {},
   "outputs": [],
   "source": [
    "df.drop(columns = iv[iv<0.02].index, inplace=True)"
   ]
  },
  {
   "cell_type": "code",
   "execution_count": 71,
   "metadata": {},
   "outputs": [
    {
     "data": {
      "text/html": [
       "<div>\n",
       "<style scoped>\n",
       "    .dataframe tbody tr th:only-of-type {\n",
       "        vertical-align: middle;\n",
       "    }\n",
       "\n",
       "    .dataframe tbody tr th {\n",
       "        vertical-align: top;\n",
       "    }\n",
       "\n",
       "    .dataframe thead th {\n",
       "        text-align: right;\n",
       "    }\n",
       "</style>\n",
       "<table border=\"1\" class=\"dataframe\">\n",
       "  <thead>\n",
       "    <tr style=\"text-align: right;\">\n",
       "      <th></th>\n",
       "      <th>Ptid</th>\n",
       "      <th>Persistency_Flag</th>\n",
       "      <th>Region</th>\n",
       "      <th>Ntm_Speciality</th>\n",
       "      <th>Ntm_Specialist_Flag</th>\n",
       "      <th>Ntm_Speciality_Bucket</th>\n",
       "      <th>Gluco_Record_During_Rx</th>\n",
       "      <th>Dexa_Freq_During_Rx</th>\n",
       "      <th>Dexa_During_Rx</th>\n",
       "      <th>Frag_Frac_During_Rx</th>\n",
       "      <th>...</th>\n",
       "      <th>Concom_Anti_Depressants_And_Mood_Stabilisers</th>\n",
       "      <th>Concom_Fluoroquinolones</th>\n",
       "      <th>Concom_Cephalosporins</th>\n",
       "      <th>Concom_Macrolides_And_Similar_Types</th>\n",
       "      <th>Concom_Broad_Spectrum_Penicillins</th>\n",
       "      <th>Concom_Anaesthetics_General</th>\n",
       "      <th>Concom_Viral_Vaccines</th>\n",
       "      <th>Risk_Smoking_Tobacco</th>\n",
       "      <th>Risk_Vitamin_D_Insufficiency</th>\n",
       "      <th>Count_Of_Risks</th>\n",
       "    </tr>\n",
       "  </thead>\n",
       "  <tbody>\n",
       "    <tr>\n",
       "      <th>0</th>\n",
       "      <td>P1</td>\n",
       "      <td>Persistent</td>\n",
       "      <td>0.072988</td>\n",
       "      <td>-0.234242</td>\n",
       "      <td>-0.248592</td>\n",
       "      <td>-0.239534</td>\n",
       "      <td>-0.280921</td>\n",
       "      <td>-0.470083</td>\n",
       "      <td>-0.470083</td>\n",
       "      <td>-0.074161</td>\n",
       "      <td>...</td>\n",
       "      <td>-0.149169</td>\n",
       "      <td>-0.193438</td>\n",
       "      <td>-0.226822</td>\n",
       "      <td>-0.191673</td>\n",
       "      <td>-0.147671</td>\n",
       "      <td>-0.194084</td>\n",
       "      <td>-0.160423</td>\n",
       "      <td>-0.125418</td>\n",
       "      <td>-0.156827</td>\n",
       "      <td>-0.228383</td>\n",
       "    </tr>\n",
       "    <tr>\n",
       "      <th>1</th>\n",
       "      <td>P2</td>\n",
       "      <td>Non-Persistent</td>\n",
       "      <td>0.072988</td>\n",
       "      <td>-0.234242</td>\n",
       "      <td>-0.248592</td>\n",
       "      <td>-0.239534</td>\n",
       "      <td>-0.280921</td>\n",
       "      <td>-0.470083</td>\n",
       "      <td>-0.470083</td>\n",
       "      <td>-0.074161</td>\n",
       "      <td>...</td>\n",
       "      <td>-0.149169</td>\n",
       "      <td>-0.193438</td>\n",
       "      <td>-0.226822</td>\n",
       "      <td>-0.191673</td>\n",
       "      <td>-0.147671</td>\n",
       "      <td>-0.194084</td>\n",
       "      <td>-0.160423</td>\n",
       "      <td>-0.125418</td>\n",
       "      <td>-0.156827</td>\n",
       "      <td>-0.228383</td>\n",
       "    </tr>\n",
       "    <tr>\n",
       "      <th>2</th>\n",
       "      <td>P3</td>\n",
       "      <td>Non-Persistent</td>\n",
       "      <td>-0.188352</td>\n",
       "      <td>-0.234242</td>\n",
       "      <td>-0.248592</td>\n",
       "      <td>-0.239534</td>\n",
       "      <td>-0.280921</td>\n",
       "      <td>-0.470083</td>\n",
       "      <td>-0.470083</td>\n",
       "      <td>-0.074161</td>\n",
       "      <td>...</td>\n",
       "      <td>-0.149169</td>\n",
       "      <td>-0.193438</td>\n",
       "      <td>-0.226822</td>\n",
       "      <td>-0.191673</td>\n",
       "      <td>-0.147671</td>\n",
       "      <td>-0.194084</td>\n",
       "      <td>-0.160423</td>\n",
       "      <td>-0.125418</td>\n",
       "      <td>-0.156827</td>\n",
       "      <td>0.080197</td>\n",
       "    </tr>\n",
       "    <tr>\n",
       "      <th>3</th>\n",
       "      <td>P4</td>\n",
       "      <td>Non-Persistent</td>\n",
       "      <td>-0.188352</td>\n",
       "      <td>-0.234242</td>\n",
       "      <td>-0.248592</td>\n",
       "      <td>-0.239534</td>\n",
       "      <td>0.713455</td>\n",
       "      <td>-0.470083</td>\n",
       "      <td>-0.470083</td>\n",
       "      <td>-0.074161</td>\n",
       "      <td>...</td>\n",
       "      <td>-0.149169</td>\n",
       "      <td>-0.193438</td>\n",
       "      <td>-0.226822</td>\n",
       "      <td>-0.191673</td>\n",
       "      <td>-0.147671</td>\n",
       "      <td>-0.194084</td>\n",
       "      <td>1.329567</td>\n",
       "      <td>0.485623</td>\n",
       "      <td>-0.156827</td>\n",
       "      <td>0.011912</td>\n",
       "    </tr>\n",
       "    <tr>\n",
       "      <th>4</th>\n",
       "      <td>P5</td>\n",
       "      <td>Non-Persistent</td>\n",
       "      <td>-0.188352</td>\n",
       "      <td>-0.234242</td>\n",
       "      <td>-0.248592</td>\n",
       "      <td>-0.239534</td>\n",
       "      <td>0.713455</td>\n",
       "      <td>-0.470083</td>\n",
       "      <td>-0.470083</td>\n",
       "      <td>-0.074161</td>\n",
       "      <td>...</td>\n",
       "      <td>0.363634</td>\n",
       "      <td>-0.193438</td>\n",
       "      <td>-0.226822</td>\n",
       "      <td>-0.191673</td>\n",
       "      <td>-0.147671</td>\n",
       "      <td>-0.194084</td>\n",
       "      <td>-0.160423</td>\n",
       "      <td>0.485623</td>\n",
       "      <td>-0.156827</td>\n",
       "      <td>0.011912</td>\n",
       "    </tr>\n",
       "  </tbody>\n",
       "</table>\n",
       "<p>5 rows × 40 columns</p>\n",
       "</div>"
      ],
      "text/plain": [
       "  Ptid Persistency_Flag    Region  Ntm_Speciality  Ntm_Specialist_Flag   \n",
       "0   P1       Persistent  0.072988       -0.234242            -0.248592  \\\n",
       "1   P2   Non-Persistent  0.072988       -0.234242            -0.248592   \n",
       "2   P3   Non-Persistent -0.188352       -0.234242            -0.248592   \n",
       "3   P4   Non-Persistent -0.188352       -0.234242            -0.248592   \n",
       "4   P5   Non-Persistent -0.188352       -0.234242            -0.248592   \n",
       "\n",
       "   Ntm_Speciality_Bucket  Gluco_Record_During_Rx  Dexa_Freq_During_Rx   \n",
       "0              -0.239534               -0.280921            -0.470083  \\\n",
       "1              -0.239534               -0.280921            -0.470083   \n",
       "2              -0.239534               -0.280921            -0.470083   \n",
       "3              -0.239534                0.713455            -0.470083   \n",
       "4              -0.239534                0.713455            -0.470083   \n",
       "\n",
       "   Dexa_During_Rx  Frag_Frac_During_Rx  ...   \n",
       "0       -0.470083            -0.074161  ...  \\\n",
       "1       -0.470083            -0.074161  ...   \n",
       "2       -0.470083            -0.074161  ...   \n",
       "3       -0.470083            -0.074161  ...   \n",
       "4       -0.470083            -0.074161  ...   \n",
       "\n",
       "   Concom_Anti_Depressants_And_Mood_Stabilisers  Concom_Fluoroquinolones   \n",
       "0                                     -0.149169                -0.193438  \\\n",
       "1                                     -0.149169                -0.193438   \n",
       "2                                     -0.149169                -0.193438   \n",
       "3                                     -0.149169                -0.193438   \n",
       "4                                      0.363634                -0.193438   \n",
       "\n",
       "   Concom_Cephalosporins  Concom_Macrolides_And_Similar_Types   \n",
       "0              -0.226822                            -0.191673  \\\n",
       "1              -0.226822                            -0.191673   \n",
       "2              -0.226822                            -0.191673   \n",
       "3              -0.226822                            -0.191673   \n",
       "4              -0.226822                            -0.191673   \n",
       "\n",
       "   Concom_Broad_Spectrum_Penicillins  Concom_Anaesthetics_General   \n",
       "0                          -0.147671                    -0.194084  \\\n",
       "1                          -0.147671                    -0.194084   \n",
       "2                          -0.147671                    -0.194084   \n",
       "3                          -0.147671                    -0.194084   \n",
       "4                          -0.147671                    -0.194084   \n",
       "\n",
       "   Concom_Viral_Vaccines  Risk_Smoking_Tobacco  Risk_Vitamin_D_Insufficiency   \n",
       "0              -0.160423             -0.125418                     -0.156827  \\\n",
       "1              -0.160423             -0.125418                     -0.156827   \n",
       "2              -0.160423             -0.125418                     -0.156827   \n",
       "3               1.329567              0.485623                     -0.156827   \n",
       "4              -0.160423              0.485623                     -0.156827   \n",
       "\n",
       "   Count_Of_Risks  \n",
       "0       -0.228383  \n",
       "1       -0.228383  \n",
       "2        0.080197  \n",
       "3        0.011912  \n",
       "4        0.011912  \n",
       "\n",
       "[5 rows x 40 columns]"
      ]
     },
     "execution_count": 71,
     "metadata": {},
     "output_type": "execute_result"
    }
   ],
   "source": [
    "df.head()"
   ]
  },
  {
   "cell_type": "code",
   "execution_count": null,
   "metadata": {},
   "outputs": [],
   "source": [
    "len(df)"
   ]
  }
 ],
 "metadata": {
  "kernelspec": {
   "display_name": "Python 3",
   "language": "python",
   "name": "python3"
  },
  "language_info": {
   "codemirror_mode": {
    "name": "ipython",
    "version": 3
   },
   "file_extension": ".py",
   "mimetype": "text/x-python",
   "name": "python",
   "nbconvert_exporter": "python",
   "pygments_lexer": "ipython3",
   "version": "3.10.9"
  },
  "orig_nbformat": 4
 },
 "nbformat": 4,
 "nbformat_minor": 2
}
